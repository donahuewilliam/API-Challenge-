{
 "cells": [
  {
   "cell_type": "markdown",
   "metadata": {},
   "source": [
    "# WeatherPy\n",
    "----\n",
    "\n",
    "#### Note\n",
    "* Instructions have been included for each segment. You do not have to follow them exactly, but they are included to help you think through the steps."
   ]
  },
  {
   "cell_type": "code",
   "execution_count": 1,
   "metadata": {
    "scrolled": true
   },
   "outputs": [],
   "source": [
    "# Dependencies and Setup\n",
    "import matplotlib.pyplot as plt\n",
    "import pandas as pd\n",
    "import numpy as np\n",
    "import time\n",
    "from scipy.stats import linregress\n",
    "import requests \n",
    "import openweathermapy.core as owm\n",
    "\n",
    "# Import API key\n",
    "from api_keys import weather_api_key\n",
    "\n",
    "# Incorporated citipy to determine city based on latitude and longitude\n",
    "from citipy import citipy\n",
    "\n",
    "# Output File (CSV)\n",
    "output_data_file = \"output_data/cities.csv\"\n",
    "\n",
    "# Range of latitudes and longitudes\n",
    "lat_range = (-90, 90)\n",
    "lng_range = (-180, 180)"
   ]
  },
  {
   "cell_type": "markdown",
   "metadata": {},
   "source": [
    "## Generate Cities List"
   ]
  },
  {
   "cell_type": "code",
   "execution_count": 2,
   "metadata": {},
   "outputs": [
    {
     "data": {
      "text/plain": [
       "618"
      ]
     },
     "execution_count": 2,
     "metadata": {},
     "output_type": "execute_result"
    }
   ],
   "source": [
    "# List for holding lat_lngs and cities\n",
    "lat_lngs = []\n",
    "cities = []\n",
    "\n",
    "# Create a set of random lat and lng combinations\n",
    "lats = np.random.uniform(lat_range[0], lat_range[1], size=1500)\n",
    "lngs = np.random.uniform(lng_range[0], lng_range[1], size=1500)\n",
    "lat_lngs = zip(lats, lngs)\n",
    "\n",
    "# Identify nearest city for each lat, lng combination\n",
    "for lat_lng in lat_lngs:\n",
    "    city = citipy.nearest_city(lat_lng[0], lat_lng[1]).city_name\n",
    "    \n",
    "    # If the city is unique, then add it to a our cities list\n",
    "    if city not in cities:\n",
    "        cities.append(city)\n",
    "\n",
    "# Print the city count to confirm sufficient count\n",
    "len(cities)"
   ]
  },
  {
   "cell_type": "markdown",
   "metadata": {},
   "source": [
    "### Perform API Calls\n",
    "* Perform a weather check on each city using a series of successive API calls.\n",
    "* Include a print log of each city as it'sbeing processed (with the city number and city name).\n"
   ]
  },
  {
   "cell_type": "code",
   "execution_count": 3,
   "metadata": {
    "scrolled": true
   },
   "outputs": [
    {
     "name": "stdout",
     "output_type": "stream",
     "text": [
      "Beginning Data Retrieval\n",
      "      -------------------------\n",
      "Processing the city 1 | smithers\n",
      "Processing the city 2 | mocajuba\n",
      "Processing the city 3 | tarakan\n",
      "Processing the city 4 | bluff\n",
      "Processing the city 5 | jacareacanga\n",
      "Processing the city 6 | nizhneyansk\n",
      "Missing field/result... skipping.\n",
      "Processing the city 7 | arraial do cabo\n",
      "Processing the city 8 | salalah\n",
      "Processing the city 9 | port alfred\n",
      "Processing the city 10 | new norfolk\n",
      "Processing the city 11 | fort nelson\n",
      "Processing the city 12 | muravlenko\n",
      "Processing the city 13 | stokmarknes\n",
      "Processing the city 14 | bairiki\n",
      "Processing the city 15 | mwene-ditu\n",
      "Processing the city 16 | fort-shevchenko\n",
      "Processing the city 17 | burhanpur\n",
      "Processing the city 18 | hermanus\n",
      "Processing the city 19 | mataura\n",
      "Processing the city 20 | bredasdorp\n",
      "Processing the city 21 | lebu\n",
      "Processing the city 22 | geraldton\n",
      "Processing the city 23 | hay river\n",
      "Processing the city 24 | uige\n",
      "Processing the city 25 | bilma\n",
      "Processing the city 26 | the valley\n",
      "Processing the city 27 | tombouctou\n",
      "Processing the city 28 | taolanaro\n",
      "Missing field/result... skipping.\n",
      "Processing the city 29 | ushuaia\n",
      "Processing the city 30 | vardo\n",
      "Processing the city 31 | ternate\n",
      "Processing the city 32 | harrisburg\n",
      "Processing the city 33 | trelew\n",
      "Processing the city 34 | kant\n",
      "Processing the city 35 | kaitangata\n",
      "Processing the city 36 | saskylakh\n",
      "Processing the city 37 | hobart\n",
      "Processing the city 38 | loutra\n",
      "Processing the city 39 | katsuura\n",
      "Processing the city 40 | flinders\n",
      "Processing the city 41 | coquimbo\n",
      "Processing the city 42 | norman wells\n",
      "Processing the city 43 | cape town\n",
      "Processing the city 44 | sechura\n",
      "Processing the city 45 | pangoa\n",
      "Processing the city 46 | albany\n",
      "Processing the city 47 | hithadhoo\n",
      "Processing the city 48 | puerto ayora\n",
      "Processing the city 49 | mehamn\n",
      "Processing the city 50 | ous\n",
      "Processing the city 51 | ambon\n",
      "Processing the city 52 | calama\n",
      "Processing the city 53 | punta arenas\n",
      "Processing the city 54 | huron\n",
      "Processing the city 55 | hirara\n",
      "Processing the city 56 | longyearbyen\n",
      "Processing the city 57 | alnashi\n",
      "Processing the city 58 | santa rosa\n",
      "Processing the city 59 | belushya guba\n",
      "Missing field/result... skipping.\n",
      "Processing the city 60 | kodiak\n",
      "Processing the city 61 | fort dix\n",
      "Processing the city 62 | yumen\n",
      "Processing the city 63 | hamilton\n",
      "Processing the city 64 | amderma\n",
      "Missing field/result... skipping.\n",
      "Processing the city 65 | illoqqortoormiut\n",
      "Missing field/result... skipping.\n",
      "Processing the city 66 | dwarka\n",
      "Processing the city 67 | campbell river\n",
      "Processing the city 68 | jaque\n",
      "Processing the city 69 | pochutla\n",
      "Processing the city 70 | salisbury\n",
      "Processing the city 71 | erenhot\n",
      "Processing the city 72 | balykshi\n",
      "Processing the city 73 | ubinskoye\n",
      "Processing the city 74 | bambous virieux\n",
      "Processing the city 75 | kapaa\n",
      "Processing the city 76 | terra rica\n",
      "Processing the city 77 | tecolutilla\n",
      "Processing the city 78 | tautira\n",
      "Processing the city 79 | nikolskoye\n",
      "Processing the city 80 | busselton\n",
      "Processing the city 81 | jamestown\n",
      "Processing the city 82 | kloulklubed\n",
      "Processing the city 83 | burnie\n",
      "Processing the city 84 | naze\n",
      "Processing the city 85 | tanout\n",
      "Processing the city 86 | mar del plata\n",
      "Processing the city 87 | sentyabrskiy\n",
      "Missing field/result... skipping.\n",
      "Processing the city 88 | port elizabeth\n",
      "Processing the city 89 | mercedes\n",
      "Processing the city 90 | grand river south east\n",
      "Missing field/result... skipping.\n",
      "Processing the city 91 | haines junction\n",
      "Processing the city 92 | nikel\n",
      "Processing the city 93 | bandarbeyla\n",
      "Processing the city 94 | carnwath\n",
      "Processing the city 95 | khatanga\n",
      "Processing the city 96 | rio grande\n",
      "Processing the city 97 | neiafu\n",
      "Processing the city 98 | bathsheba\n",
      "Processing the city 99 | tsienyane\n",
      "Missing field/result... skipping.\n",
      "Processing the city 100 | jaru\n",
      "Processing the city 101 | lompoc\n",
      "Processing the city 102 | cherskiy\n",
      "Processing the city 103 | vaini\n",
      "Processing the city 104 | arlit\n",
      "Processing the city 105 | cidreira\n",
      "Processing the city 106 | san quintin\n",
      "Processing the city 107 | luderitz\n",
      "Processing the city 108 | bethel\n",
      "Processing the city 109 | kyshtovka\n",
      "Processing the city 110 | saint-augustin\n",
      "Processing the city 111 | yertsevo\n",
      "Processing the city 112 | butaritari\n",
      "Processing the city 113 | avarua\n",
      "Processing the city 114 | clyde river\n",
      "Processing the city 115 | ola\n",
      "Processing the city 116 | barcelos\n",
      "Processing the city 117 | marfino\n",
      "Processing the city 118 | serebryanyy bor\n",
      "Processing the city 119 | sur\n",
      "Processing the city 120 | goderich\n",
      "Processing the city 121 | gornopravdinsk\n",
      "Processing the city 122 | provideniya\n",
      "Processing the city 123 | takoradi\n",
      "Processing the city 124 | te anau\n",
      "Processing the city 125 | sinnamary\n",
      "Processing the city 126 | dunedin\n",
      "Processing the city 127 | tuktoyaktuk\n",
      "Processing the city 128 | leningradskiy\n",
      "Processing the city 129 | merauke\n",
      "Processing the city 130 | boden\n",
      "Processing the city 131 | bengkulu\n",
      "Processing the city 132 | samarai\n",
      "Processing the city 133 | palabuhanratu\n",
      "Missing field/result... skipping.\n",
      "Processing the city 134 | dhidhdhoo\n",
      "Processing the city 135 | rawson\n",
      "Processing the city 136 | thompson\n",
      "Processing the city 137 | airai\n",
      "Processing the city 138 | rikitea\n",
      "Processing the city 139 | esso\n",
      "Processing the city 140 | torbay\n",
      "Processing the city 141 | sisophon\n",
      "Processing the city 142 | samalaeulu\n",
      "Missing field/result... skipping.\n",
      "Processing the city 143 | namibe\n",
      "Processing the city 144 | paamiut\n",
      "Processing the city 145 | severo-kurilsk\n",
      "Processing the city 146 | kirakira\n",
      "Processing the city 147 | marawi\n",
      "Processing the city 148 | hilo\n",
      "Processing the city 149 | acajutla\n",
      "Processing the city 150 | dingle\n",
      "Processing the city 151 | mahebourg\n",
      "Processing the city 152 | shihezi\n",
      "Processing the city 153 | petropavl\n",
      "Processing the city 154 | grimshaw\n",
      "Processing the city 155 | chumikan\n",
      "Processing the city 156 | lerici\n",
      "Processing the city 157 | touros\n",
      "Processing the city 158 | adrar\n",
      "Processing the city 159 | qaanaaq\n",
      "Processing the city 160 | vaitupu\n",
      "Missing field/result... skipping.\n",
      "Processing the city 161 | kluang\n",
      "Processing the city 162 | belaya gora\n",
      "Processing the city 163 | binahaan\n",
      "Processing the city 164 | chuy\n",
      "Processing the city 165 | drabiv\n",
      "Processing the city 166 | ojinaga\n",
      "Processing the city 167 | tura\n",
      "Processing the city 168 | cruz\n",
      "Processing the city 169 | skjervoy\n",
      "Processing the city 170 | todos santos\n",
      "Processing the city 171 | isangel\n",
      "Processing the city 172 | matay\n",
      "Processing the city 173 | lavrentiya\n",
      "Processing the city 174 | yulara\n",
      "Processing the city 175 | esmeraldas\n",
      "Processing the city 176 | saldanha\n",
      "Processing the city 177 | codrington\n",
      "Processing the city 178 | coihaique\n",
      "Processing the city 179 | husavik\n",
      "Processing the city 180 | la ronge\n",
      "Processing the city 181 | lensk\n",
      "Processing the city 182 | eugene\n",
      "Processing the city 183 | puro\n",
      "Processing the city 184 | ludvika\n",
      "Processing the city 185 | pacific grove\n",
      "Processing the city 186 | dikson\n",
      "Processing the city 187 | sao filipe\n",
      "Processing the city 188 | rasshevatskaya\n",
      "Processing the city 189 | tricase\n",
      "Processing the city 190 | north platte\n",
      "Processing the city 191 | ostrovnoy\n",
      "Processing the city 192 | mandan\n",
      "Processing the city 193 | pisco\n",
      "Processing the city 194 | buraydah\n",
      "Processing the city 195 | ruwi\n",
      "Processing the city 196 | attawapiskat\n",
      "Missing field/result... skipping.\n",
      "Processing the city 197 | pamfila\n",
      "Processing the city 198 | grand gaube\n",
      "Processing the city 199 | opuwo\n",
      "Processing the city 200 | ancud\n",
      "Processing the city 201 | iqaluit\n",
      "Processing the city 202 | lake wales\n",
      "Processing the city 203 | komsomolskiy\n",
      "Processing the city 204 | port lincoln\n",
      "Processing the city 205 | vila franca do campo\n",
      "Processing the city 206 | zomin\n",
      "Processing the city 207 | saint-philippe\n",
      "Processing the city 208 | kahului\n",
      "Processing the city 209 | tsihombe\n",
      "Missing field/result... skipping.\n",
      "Processing the city 210 | carnarvon\n",
      "Processing the city 211 | bratsk\n",
      "Processing the city 212 | wewak\n",
      "Processing the city 213 | sao jose da coroa grande\n",
      "Processing the city 214 | sankt johann im pongau\n",
      "Processing the city 215 | alofi\n",
      "Processing the city 216 | yellowknife\n",
      "Processing the city 217 | kavaratti\n",
      "Processing the city 218 | georgetown\n",
      "Processing the city 219 | casablanca\n",
      "Processing the city 220 | aklavik\n",
      "Processing the city 221 | karratha\n"
     ]
    },
    {
     "name": "stdout",
     "output_type": "stream",
     "text": [
      "Processing the city 222 | mama\n",
      "Processing the city 223 | teya\n",
      "Processing the city 224 | ponta do sol\n",
      "Processing the city 225 | victoria\n",
      "Processing the city 226 | souillac\n",
      "Processing the city 227 | barentsburg\n",
      "Missing field/result... skipping.\n",
      "Processing the city 228 | laguna\n",
      "Processing the city 229 | hunza\n",
      "Missing field/result... skipping.\n",
      "Processing the city 230 | tessalit\n",
      "Processing the city 231 | tuggurt\n",
      "Missing field/result... skipping.\n",
      "Processing the city 232 | meulaboh\n",
      "Processing the city 233 | nha trang\n",
      "Processing the city 234 | longonjo\n",
      "Processing the city 235 | mount gambier\n",
      "Processing the city 236 | huittinen\n",
      "Processing the city 237 | rawah\n",
      "Processing the city 238 | jalingo\n",
      "Processing the city 239 | klaksvik\n",
      "Processing the city 240 | petropavlovsk-kamchatskiy\n",
      "Processing the city 241 | tual\n",
      "Processing the city 242 | narsaq\n",
      "Processing the city 243 | upernavik\n",
      "Processing the city 244 | palmer\n",
      "Processing the city 245 | aden\n",
      "Processing the city 246 | constitucion\n",
      "Processing the city 247 | tuatapere\n",
      "Processing the city 248 | vaxjo\n",
      "Processing the city 249 | kisaran\n",
      "Processing the city 250 | sola\n",
      "Processing the city 251 | keshan\n",
      "Missing field/result... skipping.\n",
      "Processing the city 252 | samusu\n",
      "Missing field/result... skipping.\n",
      "Processing the city 253 | pangnirtung\n",
      "Processing the city 254 | ambulu\n",
      "Processing the city 255 | tiksi\n",
      "Processing the city 256 | san pedro\n",
      "Processing the city 257 | teguise\n",
      "Processing the city 258 | carutapera\n",
      "Processing the city 259 | banyo\n",
      "Processing the city 260 | east london\n",
      "Processing the city 261 | kizu\n",
      "Missing field/result... skipping.\n",
      "Processing the city 262 | quatre cocos\n",
      "Processing the city 263 | cananea\n",
      "Processing the city 264 | buala\n",
      "Processing the city 265 | cumaribo\n",
      "Missing field/result... skipping.\n",
      "Processing the city 266 | kautokeino\n",
      "Processing the city 267 | gwadar\n",
      "Processing the city 268 | honningsvag\n",
      "Processing the city 269 | westport\n",
      "Processing the city 270 | imbituba\n",
      "Processing the city 271 | umzimvubu\n",
      "Missing field/result... skipping.\n",
      "Processing the city 272 | mulege\n",
      "Processing the city 273 | necochea\n",
      "Processing the city 274 | longlac\n",
      "Missing field/result... skipping.\n",
      "Processing the city 275 | la asuncion\n",
      "Processing the city 276 | fairbanks\n",
      "Processing the city 277 | lewisporte\n",
      "Processing the city 278 | troitsk\n",
      "Processing the city 279 | bud\n",
      "Processing the city 280 | mezen\n",
      "Processing the city 281 | praia da vitoria\n",
      "Processing the city 282 | faanui\n",
      "Processing the city 283 | qasigiannguit\n",
      "Processing the city 284 | barrow\n",
      "Processing the city 285 | san patricio\n",
      "Processing the city 286 | dongsheng\n",
      "Processing the city 287 | talnakh\n",
      "Processing the city 288 | san miguel\n",
      "Processing the city 289 | hasaki\n",
      "Processing the city 290 | marienburg\n",
      "Processing the city 291 | polson\n",
      "Processing the city 292 | axim\n",
      "Processing the city 293 | grindavik\n",
      "Processing the city 294 | tabuk\n",
      "Processing the city 295 | kuching\n",
      "Processing the city 296 | cockburn town\n",
      "Processing the city 297 | nouadhibou\n",
      "Processing the city 298 | muisne\n",
      "Processing the city 299 | kruisfontein\n",
      "Processing the city 300 | beringovskiy\n",
      "Processing the city 301 | jimma\n",
      "Processing the city 302 | bolungarvik\n",
      "Missing field/result... skipping.\n",
      "Processing the city 303 | ribeira grande\n",
      "Processing the city 304 | henties bay\n",
      "Processing the city 305 | pevek\n",
      "Processing the city 306 | kunya\n",
      "Processing the city 307 | gurskoye\n",
      "Missing field/result... skipping.\n",
      "Processing the city 308 | chomun\n",
      "Missing field/result... skipping.\n",
      "Processing the city 309 | ulaangom\n",
      "Processing the city 310 | huichapan\n",
      "Processing the city 311 | tumannyy\n",
      "Missing field/result... skipping.\n",
      "Processing the city 312 | kyabram\n",
      "Processing the city 313 | cosala\n",
      "Processing the city 314 | tilichiki\n",
      "Processing the city 315 | baft\n",
      "Processing the city 316 | ilulissat\n",
      "Processing the city 317 | nunchia\n",
      "Processing the city 318 | kieta\n",
      "Processing the city 319 | amuntai\n",
      "Processing the city 320 | new ulm\n",
      "Processing the city 321 | rungata\n",
      "Missing field/result... skipping.\n",
      "Processing the city 322 | shenjiamen\n",
      "Processing the city 323 | leshukonskoye\n",
      "Processing the city 324 | puerto colombia\n",
      "Processing the city 325 | plast\n",
      "Processing the city 326 | lucea\n",
      "Processing the city 327 | verkhoyansk\n",
      "Processing the city 328 | abu samrah\n",
      "Processing the city 329 | roald\n",
      "Processing the city 330 | elizabeth city\n",
      "Processing the city 331 | chokurdakh\n",
      "Processing the city 332 | gilbues\n",
      "Processing the city 333 | bilibino\n",
      "Processing the city 334 | yamada\n",
      "Processing the city 335 | port augusta\n",
      "Processing the city 336 | kaa-khem\n",
      "Processing the city 337 | fershampenuaz\n",
      "Processing the city 338 | le port\n",
      "Processing the city 339 | shingu\n",
      "Processing the city 340 | zhigalovo\n",
      "Processing the city 341 | lata\n",
      "Processing the city 342 | bandar-e torkaman\n",
      "Missing field/result... skipping.\n",
      "Processing the city 343 | haapu\n",
      "Missing field/result... skipping.\n",
      "Processing the city 344 | vohibinany\n",
      "Processing the city 345 | kununurra\n",
      "Processing the city 346 | jieshi\n",
      "Processing the city 347 | salinopolis\n",
      "Processing the city 348 | padang\n",
      "Processing the city 349 | aykhal\n",
      "Processing the city 350 | jumla\n",
      "Processing the city 351 | yatou\n",
      "Processing the city 352 | cagayan de tawi-tawi\n",
      "Missing field/result... skipping.\n",
      "Processing the city 353 | fare\n",
      "Processing the city 354 | shibetsu\n",
      "Processing the city 355 | tasiilaq\n",
      "Processing the city 356 | annapolis\n",
      "Processing the city 357 | olinda\n",
      "Processing the city 358 | krasnoarmeysk\n",
      "Processing the city 359 | altay\n",
      "Processing the city 360 | port hedland\n",
      "Processing the city 361 | bambanglipuro\n",
      "Processing the city 362 | puerto quijarro\n",
      "Processing the city 363 | nam tha\n",
      "Missing field/result... skipping.\n",
      "Processing the city 364 | magnolia\n",
      "Processing the city 365 | alirajpur\n",
      "Processing the city 366 | mys shmidta\n",
      "Missing field/result... skipping.\n",
      "Processing the city 367 | kamaishi\n",
      "Processing the city 368 | richards bay\n",
      "Processing the city 369 | atuona\n",
      "Processing the city 370 | seoul\n",
      "Processing the city 371 | dzerzhinsk\n",
      "Processing the city 372 | lakes entrance\n",
      "Processing the city 373 | pimenta bueno\n",
      "Processing the city 374 | urengoy\n",
      "Processing the city 375 | vestmannaeyjar\n",
      "Processing the city 376 | lorengau\n",
      "Processing the city 377 | biak\n",
      "Processing the city 378 | ugoofaaru\n",
      "Processing the city 379 | port hardy\n",
      "Processing the city 380 | ust-ordynskiy\n",
      "Processing the city 381 | onega\n",
      "Processing the city 382 | cap malheureux\n",
      "Processing the city 383 | yerbogachen\n",
      "Processing the city 384 | nanortalik\n",
      "Processing the city 385 | lolua\n",
      "Missing field/result... skipping.\n",
      "Processing the city 386 | laurel\n",
      "Processing the city 387 | shaunavon\n",
      "Processing the city 388 | sawakin\n",
      "Processing the city 389 | fortuna\n",
      "Processing the city 390 | nusaybin\n",
      "Processing the city 391 | rognan\n",
      "Processing the city 392 | castro\n",
      "Processing the city 393 | buchanan\n",
      "Processing the city 394 | geylegphug\n",
      "Missing field/result... skipping.\n",
      "Processing the city 395 | meadow lake\n",
      "Processing the city 396 | magadan\n",
      "Processing the city 397 | ocean city\n",
      "Processing the city 398 | toliary\n",
      "Missing field/result... skipping.\n",
      "Processing the city 399 | anadyr\n",
      "Processing the city 400 | ratnagiri\n",
      "Processing the city 401 | thinadhoo\n",
      "Processing the city 402 | morgan city\n",
      "Processing the city 403 | along\n",
      "Processing the city 404 | college\n",
      "Processing the city 405 | khonuu\n",
      "Missing field/result... skipping.\n",
      "Processing the city 406 | vila velha\n",
      "Processing the city 407 | vestmanna\n",
      "Processing the city 408 | kjollefjord\n",
      "Processing the city 409 | nisia floresta\n",
      "Processing the city 410 | kralendijk\n",
      "Processing the city 411 | bluefields\n",
      "Processing the city 412 | gondar\n",
      "Processing the city 413 | kaeo\n",
      "Processing the city 414 | la brea\n",
      "Processing the city 415 | gibraleon\n",
      "Processing the city 416 | toora-khem\n",
      "Processing the city 417 | livingstonia\n",
      "Processing the city 418 | broken hill\n",
      "Processing the city 419 | bolshevik\n",
      "Processing the city 420 | yialos\n",
      "Missing field/result... skipping.\n",
      "Processing the city 421 | quelimane\n",
      "Processing the city 422 | lamu\n",
      "Processing the city 423 | hobyo\n",
      "Processing the city 424 | belmonte\n",
      "Processing the city 425 | slavonski brod\n",
      "Processing the city 426 | fremont\n",
      "Processing the city 427 | guerrero negro\n",
      "Processing the city 428 | aksu\n",
      "Processing the city 429 | lagoa\n",
      "Processing the city 430 | panzhihua\n",
      "Processing the city 431 | abu kamal\n"
     ]
    },
    {
     "name": "stdout",
     "output_type": "stream",
     "text": [
      "Processing the city 432 | san cristobal\n",
      "Processing the city 433 | isla mujeres\n",
      "Processing the city 434 | barcelona\n",
      "Processing the city 435 | qingdao\n",
      "Processing the city 436 | omboue\n",
      "Processing the city 437 | gadwal\n",
      "Processing the city 438 | sogdiondon\n",
      "Missing field/result... skipping.\n",
      "Processing the city 439 | calabozo\n",
      "Processing the city 440 | bolitoc\n",
      "Processing the city 441 | velyka mykhaylivka\n",
      "Processing the city 442 | saleaula\n",
      "Missing field/result... skipping.\n",
      "Processing the city 443 | pakxan\n",
      "Processing the city 444 | mogadishu\n",
      "Processing the city 445 | akureyri\n",
      "Processing the city 446 | chirongui\n",
      "Processing the city 447 | tacoronte\n",
      "Processing the city 448 | valparaiso\n",
      "Processing the city 449 | ovsyanka\n",
      "Processing the city 450 | bom jesus\n",
      "Processing the city 451 | andapa\n",
      "Processing the city 452 | khalkhal\n",
      "Processing the city 453 | weinan\n",
      "Processing the city 454 | manicore\n",
      "Processing the city 455 | haapiti\n",
      "Processing the city 456 | burgeo\n",
      "Processing the city 457 | recarei\n",
      "Processing the city 458 | kotma\n",
      "Processing the city 459 | namatanai\n",
      "Processing the city 460 | galesong\n",
      "Processing the city 461 | northam\n",
      "Processing the city 462 | tawang\n",
      "Processing the city 463 | montevideo\n",
      "Processing the city 464 | ayan\n",
      "Processing the city 465 | bereznik\n",
      "Processing the city 466 | iwaki\n",
      "Processing the city 467 | martapura\n",
      "Processing the city 468 | black river\n",
      "Processing the city 469 | mount hagen\n",
      "Processing the city 470 | atar\n",
      "Processing the city 471 | jiutai\n",
      "Processing the city 472 | porto novo\n",
      "Processing the city 473 | pallisa\n",
      "Processing the city 474 | andros town\n",
      "Processing the city 475 | rio gallegos\n",
      "Processing the city 476 | srednekolymsk\n",
      "Processing the city 477 | honiara\n",
      "Processing the city 478 | kenora\n",
      "Processing the city 479 | port blair\n",
      "Processing the city 480 | saint george\n",
      "Processing the city 481 | ixtapa\n",
      "Processing the city 482 | bolgatanga\n",
      "Processing the city 483 | luoyang\n",
      "Processing the city 484 | ananas\n",
      "Processing the city 485 | prince rupert\n",
      "Processing the city 486 | abha\n",
      "Processing the city 487 | mackay\n",
      "Processing the city 488 | waitati\n",
      "Processing the city 489 | carahue\n",
      "Processing the city 490 | sorvag\n",
      "Missing field/result... skipping.\n",
      "Processing the city 491 | west wendover\n",
      "Processing the city 492 | bushehr\n",
      "Processing the city 493 | aketi\n",
      "Processing the city 494 | lamar\n",
      "Processing the city 495 | kamenskoye\n",
      "Missing field/result... skipping.\n",
      "Processing the city 496 | susaki\n",
      "Processing the city 497 | manggar\n",
      "Processing the city 498 | mentok\n",
      "Missing field/result... skipping.\n",
      "Processing the city 499 | korla\n",
      "Processing the city 500 | maloy\n",
      "Processing the city 501 | big spring\n",
      "Processing the city 502 | vilhena\n",
      "Processing the city 503 | villa carlos paz\n",
      "Processing the city 504 | effingham\n",
      "Processing the city 505 | shache\n",
      "Processing the city 506 | suchilquitongo\n",
      "Missing field/result... skipping.\n",
      "Processing the city 507 | sarangani\n",
      "Processing the city 508 | marsaxlokk\n",
      "Processing the city 509 | pokanayevka\n",
      "Missing field/result... skipping.\n",
      "Processing the city 510 | muroto\n",
      "Processing the city 511 | unai\n",
      "Processing the city 512 | xai-xai\n",
      "Processing the city 513 | takab\n",
      "Processing the city 514 | chicama\n",
      "Processing the city 515 | muros\n",
      "Processing the city 516 | satitoa\n",
      "Missing field/result... skipping.\n",
      "Processing the city 517 | okotoks\n",
      "Processing the city 518 | karabulak\n",
      "Processing the city 519 | porto belo\n",
      "Processing the city 520 | lakhdenpokhya\n",
      "Processing the city 521 | wulanhaote\n",
      "Missing field/result... skipping.\n",
      "Processing the city 522 | atambua\n",
      "Processing the city 523 | kiomboi\n",
      "Processing the city 524 | iskateley\n",
      "Processing the city 525 | sao joao do paraiso\n",
      "Processing the city 526 | half moon bay\n",
      "Processing the city 527 | labutta\n",
      "Missing field/result... skipping.\n",
      "Processing the city 528 | san jose del potrero\n",
      "Processing the city 529 | diveyevo\n",
      "Processing the city 530 | maxixe\n",
      "Processing the city 531 | boa vista\n",
      "Processing the city 532 | orlik\n",
      "Processing the city 533 | kangaba\n",
      "Processing the city 534 | antofagasta\n",
      "Processing the city 535 | cabo san lucas\n",
      "Processing the city 536 | tuim\n",
      "Processing the city 537 | okhotsk\n",
      "Processing the city 538 | atikokan\n",
      "Processing the city 539 | alugan\n",
      "Processing the city 540 | wexford\n",
      "Processing the city 541 | klamath falls\n",
      "Processing the city 542 | ucluelet\n",
      "Processing the city 543 | karaul\n",
      "Missing field/result... skipping.\n",
      "Processing the city 544 | portarlington\n",
      "Processing the city 545 | esperance\n",
      "Processing the city 546 | ibaiti\n",
      "Processing the city 547 | charters towers\n",
      "Processing the city 548 | turinsk\n",
      "Processing the city 549 | cacador\n",
      "Processing the city 550 | jalu\n",
      "Processing the city 551 | riviere-au-renard\n",
      "Processing the city 552 | zhangye\n",
      "Processing the city 553 | labuhan\n",
      "Processing the city 554 | san jeronimo\n",
      "Processing the city 555 | alice springs\n",
      "Processing the city 556 | kenai\n",
      "Processing the city 557 | taburi\n",
      "Missing field/result... skipping.\n",
      "Processing the city 558 | zhuhai\n",
      "Processing the city 559 | porgera\n",
      "Processing the city 560 | nemuro\n",
      "Processing the city 561 | karabash\n",
      "Processing the city 562 | ahipara\n",
      "Processing the city 563 | upata\n",
      "Processing the city 564 | lashma\n",
      "Processing the city 565 | moose factory\n",
      "Processing the city 566 | likasi\n",
      "Processing the city 567 | maroantsetra\n",
      "Processing the city 568 | huancavelica\n",
      "Processing the city 569 | maine-soroa\n",
      "Processing the city 570 | la reforma\n",
      "Processing the city 571 | raymond\n",
      "Processing the city 572 | gaoual\n",
      "Processing the city 573 | asau\n",
      "Processing the city 574 | terra santa\n",
      "Processing the city 575 | tkvarcheli\n",
      "Missing field/result... skipping.\n",
      "Processing the city 576 | brae\n",
      "Processing the city 577 | oyo\n",
      "Processing the city 578 | bukachacha\n",
      "Processing the city 579 | den helder\n",
      "Processing the city 580 | shangqiu\n",
      "Processing the city 581 | koslan\n",
      "Processing the city 582 | victor harbor\n",
      "Processing the city 583 | dvinskoy\n",
      "Processing the city 584 | beloha\n",
      "Processing the city 585 | burns lake\n",
      "Processing the city 586 | sioux lookout\n",
      "Processing the city 587 | nguiu\n",
      "Missing field/result... skipping.\n",
      "Processing the city 588 | baykit\n",
      "Processing the city 589 | jingdezhen\n",
      "Processing the city 590 | tuy hoa\n",
      "Processing the city 591 | kachiry\n",
      "Processing the city 592 | kropotkin\n",
      "Processing the city 593 | ercis\n",
      "Processing the city 594 | kaoma\n",
      "Processing the city 595 | butajira\n",
      "Processing the city 596 | shakawe\n",
      "Processing the city 597 | dolores\n",
      "Processing the city 598 | saint-ambroise\n",
      "Processing the city 599 | jalpan\n",
      "Processing the city 600 | macklin\n",
      "Processing the city 601 | eydhafushi\n",
      "Processing the city 602 | camacupa\n",
      "Processing the city 603 | kita\n",
      "Processing the city 604 | tabukiniberu\n",
      "Missing field/result... skipping.\n",
      "Processing the city 605 | manakara\n",
      "Processing the city 606 | lere\n",
      "Processing the city 607 | salta\n",
      "Processing the city 608 | kelowna\n",
      "Processing the city 609 | maragogi\n",
      "Processing the city 610 | tarrafal\n",
      "Processing the city 611 | tongzi\n",
      "Processing the city 612 | yangambi\n",
      "Processing the city 613 | sitka\n",
      "Processing the city 614 | tarko-sale\n",
      "Processing the city 615 | cap-haitien\n",
      "Processing the city 616 | boras\n",
      "Processing the city 617 | nizhnyaya pavlovka\n",
      "Missing field/result... skipping.\n",
      "Processing the city 618 | itoman\n",
      "------------\n"
     ]
    }
   ],
   "source": [
    "base_url = \"http://api.openweathermap.org/data/2.5/weather?units=Imperial&APPID=\" + weather_api_key\n",
    "settings = {'units': 'imperial', 'APPID': weather_api_key}\n",
    "desired_keys = ['clouds.all','sys.country','dt','main.humidity','main.temp_max','wind.speed','coord.lat','coord.lon']\n",
    "#set list\n",
    "lat = []\n",
    "lng = []\n",
    "humidity = []\n",
    "max_temp = []\n",
    "wind_speeds = []\n",
    "cloudiness = []\n",
    "country = []\n",
    "dates = []\n",
    "city_1 = []\n",
    "\n",
    "count_1 = 0\n",
    "set_1 = 1\n",
    "\n",
    "\n",
    "# begin data retriveval\n",
    "\n",
    "print('''Beginning Data Retrieval\n",
    "      -------------------------''')\n",
    "counter = 1\n",
    "# use iterrows to iterate through pandas dataframe\n",
    "for city in cities:\n",
    "    query_url = base_url + '&q' + city.replace(' ','+')\n",
    "    print(f\"Processing the city {counter} | {city}\")\n",
    "    try:\n",
    "    \n",
    "        api_data = owm.get_current(city,**settings)\n",
    "        cl,ct,dt,hm,mt,ws,lt,ln = api_data(*desired_keys)\n",
    "        \n",
    "        cloudiness.append(cl)\n",
    "        country.append(ct)\n",
    "        dates.append(dt)\n",
    "        humidity.append(hm)\n",
    "        max_temp.append(mt)\n",
    "        wind_speeds.append(ws)\n",
    "        lat.append(lt)\n",
    "        lng.append(ln)\n",
    "        city_1.append(city)\n",
    "\n",
    "        \n",
    "        \n",
    "    except :\n",
    "        print(\"Missing field/result... skipping.\")\n",
    "    counter += 1\n",
    "        \n",
    "print(\"------------\")"
   ]
  },
  {
   "cell_type": "markdown",
   "metadata": {},
   "source": [
    "### Convert Raw Data to DataFrame\n",
    "* Export the city data into a .csv.\n",
    "* Display the DataFrame"
   ]
  },
  {
   "cell_type": "code",
   "execution_count": 4,
   "metadata": {},
   "outputs": [
    {
     "data": {
      "text/html": [
       "<div>\n",
       "<style scoped>\n",
       "    .dataframe tbody tr th:only-of-type {\n",
       "        vertical-align: middle;\n",
       "    }\n",
       "\n",
       "    .dataframe tbody tr th {\n",
       "        vertical-align: top;\n",
       "    }\n",
       "\n",
       "    .dataframe thead th {\n",
       "        text-align: right;\n",
       "    }\n",
       "</style>\n",
       "<table border=\"1\" class=\"dataframe\">\n",
       "  <thead>\n",
       "    <tr style=\"text-align: right;\">\n",
       "      <th></th>\n",
       "      <th>City</th>\n",
       "      <th>Lat</th>\n",
       "      <th>Lng</th>\n",
       "      <th>Max Temp</th>\n",
       "      <th>Humidity</th>\n",
       "      <th>Cloudiness</th>\n",
       "      <th>Wind Speed</th>\n",
       "      <th>Date</th>\n",
       "    </tr>\n",
       "  </thead>\n",
       "  <tbody>\n",
       "    <tr>\n",
       "      <th>0</th>\n",
       "      <td>smithers</td>\n",
       "      <td>54.78</td>\n",
       "      <td>-127.17</td>\n",
       "      <td>26.60</td>\n",
       "      <td>86</td>\n",
       "      <td>20</td>\n",
       "      <td>6.93</td>\n",
       "      <td>1608585059</td>\n",
       "    </tr>\n",
       "    <tr>\n",
       "      <th>1</th>\n",
       "      <td>mocajuba</td>\n",
       "      <td>-2.58</td>\n",
       "      <td>-49.51</td>\n",
       "      <td>83.71</td>\n",
       "      <td>67</td>\n",
       "      <td>84</td>\n",
       "      <td>2.93</td>\n",
       "      <td>1608585145</td>\n",
       "    </tr>\n",
       "    <tr>\n",
       "      <th>2</th>\n",
       "      <td>tarakan</td>\n",
       "      <td>3.30</td>\n",
       "      <td>117.63</td>\n",
       "      <td>78.44</td>\n",
       "      <td>86</td>\n",
       "      <td>100</td>\n",
       "      <td>6.76</td>\n",
       "      <td>1608585146</td>\n",
       "    </tr>\n",
       "    <tr>\n",
       "      <th>3</th>\n",
       "      <td>bluff</td>\n",
       "      <td>-46.60</td>\n",
       "      <td>168.33</td>\n",
       "      <td>62.01</td>\n",
       "      <td>93</td>\n",
       "      <td>97</td>\n",
       "      <td>1.01</td>\n",
       "      <td>1608585146</td>\n",
       "    </tr>\n",
       "    <tr>\n",
       "      <th>4</th>\n",
       "      <td>jacareacanga</td>\n",
       "      <td>-6.22</td>\n",
       "      <td>-57.75</td>\n",
       "      <td>83.79</td>\n",
       "      <td>80</td>\n",
       "      <td>100</td>\n",
       "      <td>1.70</td>\n",
       "      <td>1608585146</td>\n",
       "    </tr>\n",
       "  </tbody>\n",
       "</table>\n",
       "</div>"
      ],
      "text/plain": [
       "           City    Lat     Lng  Max Temp  Humidity  Cloudiness  Wind Speed  \\\n",
       "0      smithers  54.78 -127.17     26.60        86          20        6.93   \n",
       "1      mocajuba  -2.58  -49.51     83.71        67          84        2.93   \n",
       "2       tarakan   3.30  117.63     78.44        86         100        6.76   \n",
       "3         bluff -46.60  168.33     62.01        93          97        1.01   \n",
       "4  jacareacanga  -6.22  -57.75     83.79        80         100        1.70   \n",
       "\n",
       "         Date  \n",
       "0  1608585059  \n",
       "1  1608585145  \n",
       "2  1608585146  \n",
       "3  1608585146  \n",
       "4  1608585146  "
      ]
     },
     "execution_count": 4,
     "metadata": {},
     "output_type": "execute_result"
    }
   ],
   "source": [
    "cities_dic = {\"City\": city_1, \"Lat\": lat, \"Lng\": lng, \"Max Temp\": max_temp, \"Humidity\": humidity, \"Cloudiness\": cloudiness, \"Wind Speed\": wind_speeds, \"Date\": dates}\n",
    "\n",
    "cities_data = pd.DataFrame(cities_dic)\n",
    "cities_data.head()"
   ]
  },
  {
   "cell_type": "code",
   "execution_count": 5,
   "metadata": {},
   "outputs": [],
   "source": [
    "cities_data.to_csv(\"cities_data.csv\", encoding=\"utf-8\", index=False)"
   ]
  },
  {
   "cell_type": "markdown",
   "metadata": {},
   "source": [
    "## Inspect the data and remove the cities where the humidity > 100%.\n",
    "----\n",
    "Skip this step if there are no cities that have humidity > 100%. "
   ]
  },
  {
   "cell_type": "code",
   "execution_count": null,
   "metadata": {},
   "outputs": [],
   "source": []
  },
  {
   "cell_type": "code",
   "execution_count": 6,
   "metadata": {},
   "outputs": [],
   "source": [
    "#  Get the indices of cities that have humidity over 100%.\n"
   ]
  },
  {
   "cell_type": "code",
   "execution_count": 7,
   "metadata": {},
   "outputs": [],
   "source": [
    "# Make a new DataFrame equal to the city data to drop all humidity outliers by index.\n",
    "# Passing \"inplace=False\" will make a copy of the city_data DataFrame, which we call \"clean_city_data\".\n"
   ]
  },
  {
   "cell_type": "code",
   "execution_count": null,
   "metadata": {},
   "outputs": [],
   "source": [
    "\n"
   ]
  },
  {
   "cell_type": "markdown",
   "metadata": {},
   "source": [
    "## Plotting the Data\n",
    "* Use proper labeling of the plots using plot titles (including date of analysis) and axes labels.\n",
    "* Save the plotted figures as .pngs."
   ]
  },
  {
   "cell_type": "markdown",
   "metadata": {},
   "source": [
    "## Latitude vs. Temperature Plot"
   ]
  },
  {
   "cell_type": "code",
   "execution_count": 8,
   "metadata": {
    "scrolled": true
   },
   "outputs": [
    {
     "data": {
      "image/png": "[encoded data removed]",
      "text/plain": [
       "<Figure size 432x288 with 1 Axes>"
      ]
     },
     "metadata": {
      "needs_background": "light"
     },
     "output_type": "display_data"
    },
    {
     "data": {
      "text/plain": [
       "<Figure size 432x288 with 0 Axes>"
      ]
     },
     "metadata": {},
     "output_type": "display_data"
    }
   ],
   "source": [
    "\n",
    "\n",
    "# Plot scatter plot\n",
    "plt.scatter(cities_data['Lat'],cities_data['Max Temp'])\n",
    "\n",
    "# Plot regression line\n",
    "\n",
    "\n",
    "\n",
    "# Label plot\n",
    "plt.title('Latitude vs. Temperature Plot')\n",
    "plt.xlabel('Latitude')\n",
    "plt.ylabel('Temperature')\n",
    "plt.grid()\n",
    "\n",
    "# Print r square value\n",
    "\n",
    "\n",
    "# Show plot\n",
    "plt.show()\n",
    "plt.savefig(\"latvstemp\")"
   ]
  },
  {
   "cell_type": "markdown",
   "metadata": {},
   "source": [
    "## Latitude vs. Humidity Plot"
   ]
  },
  {
   "cell_type": "code",
   "execution_count": 9,
   "metadata": {},
   "outputs": [
    {
     "data": {
      "image/png": "[encoded data removed]",
      "text/plain": [
       "<Figure size 432x288 with 1 Axes>"
      ]
     },
     "metadata": {
      "needs_background": "light"
     },
     "output_type": "display_data"
    },
    {
     "data": {
      "text/plain": [
       "<Figure size 432x288 with 0 Axes>"
      ]
     },
     "metadata": {},
     "output_type": "display_data"
    }
   ],
   "source": [
    "plt.scatter(cities_data['Lat'],cities_data['Humidity'])\n",
    "\n",
    "\n",
    "# Label plot\n",
    "plt.title('Latitude vs. Humidity Plot')\n",
    "plt.xlabel('Latitude')\n",
    "plt.ylabel('Humidity')\n",
    "plt.grid()\n",
    "\n",
    "\n",
    "# Show plot\n",
    "plt.show()\n",
    "plt.savefig(\"latvshumd\")"
   ]
  },
  {
   "cell_type": "markdown",
   "metadata": {},
   "source": [
    "## Latitude vs. Cloudiness Plot"
   ]
  },
  {
   "cell_type": "code",
   "execution_count": 10,
   "metadata": {},
   "outputs": [
    {
     "data": {
      "image/png": "[encoded data removed]",
      "text/plain": [
       "<Figure size 432x288 with 1 Axes>"
      ]
     },
     "metadata": {
      "needs_background": "light"
     },
     "output_type": "display_data"
    },
    {
     "data": {
      "text/plain": [
       "<Figure size 432x288 with 0 Axes>"
      ]
     },
     "metadata": {},
     "output_type": "display_data"
    }
   ],
   "source": [
    "plt.scatter(cities_data['Lat'],cities_data['Cloudiness'])\n",
    "\n",
    "\n",
    "# Label plot\n",
    "plt.title('Latitude vs. Cloudiness Plot')\n",
    "plt.xlabel('Latitude')\n",
    "plt.ylabel('Cloudiness')\n",
    "plt.grid()\n",
    "\n",
    "\n",
    "# Show plot\n",
    "plt.show()\n",
    "plt.savefig(\"latvscloud\")\n",
    "plt.savefig(\"image2\")"
   ]
  },
  {
   "cell_type": "markdown",
   "metadata": {},
   "source": [
    "## Latitude vs. Wind Speed Plot"
   ]
  },
  {
   "cell_type": "code",
   "execution_count": 11,
   "metadata": {},
   "outputs": [
    {
     "data": {
      "image/png": "[encoded data removed]",
      "text/plain": [
       "<Figure size 432x288 with 1 Axes>"
      ]
     },
     "metadata": {
      "needs_background": "light"
     },
     "output_type": "display_data"
    },
    {
     "data": {
      "text/plain": [
       "<Figure size 432x288 with 0 Axes>"
      ]
     },
     "metadata": {},
     "output_type": "display_data"
    }
   ],
   "source": [
    "plt.scatter(cities_data['Lat'],cities_data['Wind Speed'])\n",
    "\n",
    "\n",
    "# Label plot\n",
    "plt.title('Latitude vs. Wind Speed Plot')\n",
    "plt.xlabel('Latitude')\n",
    "plt.ylabel('Wind Speed')\n",
    "plt.grid()\n",
    "\n",
    "\n",
    "# Show plot\n",
    "plt.show()\n",
    "plt.savefig(\"latvscloud\")\n",
    "plt.savefig(\"image3\")"
   ]
  },
  {
   "cell_type": "markdown",
   "metadata": {},
   "source": [
    "## Linear Regression"
   ]
  },
  {
   "cell_type": "code",
   "execution_count": null,
   "metadata": {},
   "outputs": [],
   "source": [
    "\n",
    "\n",
    "\n"
   ]
  },
  {
   "cell_type": "code",
   "execution_count": null,
   "metadata": {},
   "outputs": [],
   "source": [
    "\n"
   ]
  },
  {
   "cell_type": "markdown",
   "metadata": {},
   "source": [
    "\n",
    "####  Northern Hemisphere - Max Temp vs. Latitude Linear Regression"
   ]
  },
  {
   "cell_type": "code",
   "execution_count": null,
   "metadata": {},
   "outputs": [],
   "source": []
  },
  {
   "cell_type": "code",
   "execution_count": null,
   "metadata": {},
   "outputs": [],
   "source": []
  },
  {
   "cell_type": "code",
   "execution_count": 15,
   "metadata": {},
   "outputs": [
    {
     "name": "stdout",
     "output_type": "stream",
     "text": [
      "R squared: 0.7037781803140944\n"
     ]
    },
    {
     "data": {
      "image/png": "[encoded data removed]",
      "text/plain": [
       "<Figure size 432x288 with 1 Axes>"
      ]
     },
     "metadata": {
      "needs_background": "light"
     },
     "output_type": "display_data"
    },
    {
     "data": {
      "text/plain": [
       "<Figure size 432x288 with 0 Axes>"
      ]
     },
     "metadata": {},
     "output_type": "display_data"
    }
   ],
   "source": [
    "\n",
    "\n",
    "north_df = cities_data[cities_data['Lat']>=0]\n",
    "northern_lat = north_df['Lat']\n",
    "temperature = north_df['Max Temp']\n",
    "# Run linear regression\n",
    "(slope, intercept, rvalue, pvalue, stderr) = linregress(northern_lat,temperature)\n",
    "regress_values = northern_lat * slope + intercept\n",
    "line_eq = \"y = \" + str(round(slope,2)) + \"x + \" + str(round(intercept,2))\n",
    "\n",
    "# Plot scatter plot\n",
    "plt.scatter(northern_lat,temperature)\n",
    "\n",
    "# Plot regression line\n",
    "plt.plot(northern_lat,regress_values,\"r-\")\n",
    "plt.annotate(line_eq,(6,10),fontsize=15,color=\"red\")\n",
    "\n",
    "# Label plot\n",
    "plt.xlabel('Max Temp')\n",
    "plt.ylabel('Lat')\n",
    "\n",
    "\n",
    "# Print r square value\n",
    "print(f\"R squared: {rvalue**2}\")\n",
    "\n",
    "# Show plot\n",
    "plt.show()\n",
    "plt.savefig(\"image4\")"
   ]
  },
  {
   "cell_type": "markdown",
   "metadata": {},
   "source": [
    "####  Southern Hemisphere - Max Temp vs. Latitude Linear Regression"
   ]
  },
  {
   "cell_type": "code",
   "execution_count": 16,
   "metadata": {},
   "outputs": [
    {
     "name": "stdout",
     "output_type": "stream",
     "text": [
      "R squared: 0.2964655628322803\n"
     ]
    },
    {
     "data": {
      "image/png": "[encoded data removed]",
      "text/plain": [
       "<Figure size 432x288 with 1 Axes>"
      ]
     },
     "metadata": {
      "needs_background": "light"
     },
     "output_type": "display_data"
    }
   ],
   "source": [
    "south_df = cities_data[cities_data['Lat']<0]\n",
    "southern_lat = south_df['Lat']\n",
    "temperature = south_df['Max Temp']\n",
    "# Run linear regression\n",
    "(slope, intercept, rvalue, pvalue, stderr) = linregress(southern_lat,temperature)\n",
    "regress_values = southern_lat * slope + intercept\n",
    "line_eq = \"y = \" + str(round(slope,2)) + \"x + \" + str(round(intercept,2))\n",
    "\n",
    "# Plot scatter plot\n",
    "plt.scatter(southern_lat,temperature)\n",
    "\n",
    "# Plot regression line\n",
    "plt.plot(southern_lat,regress_values,\"r-\")\n",
    "plt.annotate(line_eq,(6,10),fontsize=15,color=\"red\")\n",
    "\n",
    "# Label plot\n",
    "plt.xlabel('Max Temp')\n",
    "plt.ylabel('Lat')\n",
    "\n",
    "\n",
    "# Print r square value\n",
    "print(f\"R squared: {rvalue**2}\")\n",
    "\n",
    "# Show plot\n",
    "plt.show()"
   ]
  },
  {
   "cell_type": "markdown",
   "metadata": {},
   "source": [
    "####  Northern Hemisphere - Humidity (%) vs. Latitude Linear Regression"
   ]
  },
  {
   "cell_type": "code",
   "execution_count": 17,
   "metadata": {},
   "outputs": [
    {
     "name": "stdout",
     "output_type": "stream",
     "text": [
      "R squared: 0.14690797145350876\n"
     ]
    },
    {
     "data": {
      "image/png": "[encoded data removed]",
      "text/plain": [
       "<Figure size 432x288 with 1 Axes>"
      ]
     },
     "metadata": {
      "needs_background": "light"
     },
     "output_type": "display_data"
    },
    {
     "data": {
      "text/plain": [
       "<Figure size 432x288 with 0 Axes>"
      ]
     },
     "metadata": {},
     "output_type": "display_data"
    }
   ],
   "source": [
    "north_df = cities_data[cities_data['Lat']>=0]\n",
    "northern_lat = north_df['Lat']\n",
    "humidity_df = north_df['Humidity']\n",
    "# Run linear regression\n",
    "(slope, intercept, rvalue, pvalue, stderr) = linregress(northern_lat,humidity_df)\n",
    "regress_values = northern_lat * slope + intercept\n",
    "line_eq = \"y = \" + str(round(slope,2)) + \"x + \" + str(round(intercept,2))\n",
    "\n",
    "# Plot scatter plot\n",
    "plt.scatter(northern_lat,humidity_df)\n",
    "\n",
    "# Plot regression line\n",
    "plt.plot(northern_lat,regress_values,\"r-\")\n",
    "plt.annotate(line_eq,(6,10),fontsize=15,color=\"red\")\n",
    "\n",
    "# Label plot\n",
    "plt.xlabel('Nothern Lat')\n",
    "plt.ylabel('Humidity')\n",
    "plt.title ('Northern Hemisphere - Humidity (%) vs. Latitude Linear Regression')\n",
    "\n",
    "\n",
    "# Print r square value\n",
    "print(f\"R squared: {rvalue**2}\")\n",
    "\n",
    "# Show plot\n",
    "plt.show()\n",
    "plt.savefig(\"image5\")"
   ]
  },
  {
   "cell_type": "markdown",
   "metadata": {},
   "source": [
    "####  Southern Hemisphere - Humidity (%) vs. Latitude Linear Regression"
   ]
  },
  {
   "cell_type": "code",
   "execution_count": 18,
   "metadata": {},
   "outputs": [
    {
     "name": "stdout",
     "output_type": "stream",
     "text": [
      "R squared: 0.06145337405947085\n"
     ]
    },
    {
     "data": {
      "image/png": "[encoded data removed]",
      "text/plain": [
       "<Figure size 432x288 with 1 Axes>"
      ]
     },
     "metadata": {
      "needs_background": "light"
     },
     "output_type": "display_data"
    },
    {
     "data": {
      "text/plain": [
       "<Figure size 432x288 with 0 Axes>"
      ]
     },
     "metadata": {},
     "output_type": "display_data"
    }
   ],
   "source": [
    "\n",
    "southern_lat = south_df['Lat']\n",
    "humidity_df = south_df['Humidity']\n",
    "# Run linear regression\n",
    "(slope, intercept, rvalue, pvalue, stderr) = linregress(southern_lat,humidity_df)\n",
    "regress_values = southern_lat * slope + intercept\n",
    "line_eq = \"y = \" + str(round(slope,2)) + \"x + \" + str(round(intercept,2))\n",
    "\n",
    "# Plot scatter plot\n",
    "plt.scatter(southern_lat,humidity_df)\n",
    "\n",
    "# Plot regression line\n",
    "plt.plot(southern_lat,regress_values,\"r-\")\n",
    "plt.annotate(line_eq,(6,10),fontsize=15,color=\"red\")\n",
    "\n",
    "# Label plot\n",
    "plt.xlabel('Southern Lat')\n",
    "plt.ylabel('Humidity')\n",
    "plt.title ('Southern Hemisphere - Humidity (%) vs. Latitude Linear Regression')\n",
    "\n",
    "\n",
    "# Print r square value\n",
    "print(f\"R squared: {rvalue**2}\")\n",
    "\n",
    "# Show plot\n",
    "plt.show()\n",
    "plt.savefig(\"image6\")"
   ]
  },
  {
   "cell_type": "markdown",
   "metadata": {},
   "source": [
    "####  Northern Hemisphere - Cloudiness (%) vs. Latitude Linear Regression"
   ]
  },
  {
   "cell_type": "code",
   "execution_count": 19,
   "metadata": {},
   "outputs": [
    {
     "name": "stdout",
     "output_type": "stream",
     "text": [
      "R squared: 0.09718723340182919\n"
     ]
    },
    {
     "data": {
      "image/png": "[encoded data removed]",
      "text/plain": [
       "<Figure size 432x288 with 1 Axes>"
      ]
     },
     "metadata": {
      "needs_background": "light"
     },
     "output_type": "display_data"
    },
    {
     "data": {
      "text/plain": [
       "<Figure size 432x288 with 0 Axes>"
      ]
     },
     "metadata": {},
     "output_type": "display_data"
    }
   ],
   "source": [
    "northern_lat = north_df['Lat']\n",
    "cloudy_df = north_df['Cloudiness']\n",
    "# Run linear regression\n",
    "(slope, intercept, rvalue, pvalue, stderr) = linregress(northern_lat,cloudy_df)\n",
    "regress_values = northern_lat * slope + intercept\n",
    "line_eq = \"y = \" + str(round(slope,2)) + \"x + \" + str(round(intercept,2))\n",
    "\n",
    "# Plot scatter plot\n",
    "plt.scatter(northern_lat,cloudy_df)\n",
    "\n",
    "# Plot regression line\n",
    "plt.plot(northern_lat,regress_values,\"r-\")\n",
    "plt.annotate(line_eq,(6,10),fontsize=15,color=\"red\")\n",
    "\n",
    "# Label plot\n",
    "plt.xlabel('Northern Lat')\n",
    "plt.ylabel('Cloudiness')\n",
    "plt.title ('Northern Hemisphere - Cloudiness vs. Latitude Linear Regression')\n",
    "\n",
    "\n",
    "# Print r square value\n",
    "print(f\"R squared: {rvalue**2}\")\n",
    "\n",
    "# Show plot\n",
    "plt.show()\n",
    "plt.savefig(\"image7\")"
   ]
  },
  {
   "cell_type": "markdown",
   "metadata": {},
   "source": [
    "####  Southern Hemisphere - Cloudiness (%) vs. Latitude Linear Regression"
   ]
  },
  {
   "cell_type": "code",
   "execution_count": 20,
   "metadata": {},
   "outputs": [
    {
     "name": "stdout",
     "output_type": "stream",
     "text": [
      "R squared: 0.03995565333941087\n"
     ]
    },
    {
     "data": {
      "image/png": "[encoded data removed]",
      "text/plain": [
       "<Figure size 432x288 with 1 Axes>"
      ]
     },
     "metadata": {
      "needs_background": "light"
     },
     "output_type": "display_data"
    },
    {
     "data": {
      "text/plain": [
       "<Figure size 432x288 with 0 Axes>"
      ]
     },
     "metadata": {},
     "output_type": "display_data"
    }
   ],
   "source": [
    "southern_lat = south_df['Lat']\n",
    "cloudy_df = south_df['Cloudiness']\n",
    "# Run linear regression\n",
    "(slope, intercept, rvalue, pvalue, stderr) = linregress(southern_lat,cloudy_df)\n",
    "regress_values = southern_lat * slope + intercept\n",
    "line_eq = \"y = \" + str(round(slope,2)) + \"x + \" + str(round(intercept,2))\n",
    "\n",
    "# Plot scatter plot\n",
    "plt.scatter(southern_lat,cloudy_df)\n",
    "\n",
    "# Plot regression line\n",
    "plt.plot(southern_lat,regress_values,\"r-\")\n",
    "plt.annotate(line_eq,(6,10),fontsize=15,color=\"red\")\n",
    "\n",
    "# Label plot\n",
    "plt.xlabel('Southern Lat')\n",
    "plt.ylabel('Cloudiness')\n",
    "plt.title ('Southern Hemisphere - Cloudiness vs. Latitude Linear Regression')\n",
    "\n",
    "\n",
    "# Print r square value\n",
    "print(f\"R squared: {rvalue**2}\")\n",
    "\n",
    "# Show plot\n",
    "plt.show()\n",
    "plt.savefig(\"image7\")"
   ]
  },
  {
   "cell_type": "markdown",
   "metadata": {},
   "source": [
    "####  Northern Hemisphere - Wind Speed (mph) vs. Latitude Linear Regression"
   ]
  },
  {
   "cell_type": "code",
   "execution_count": 21,
   "metadata": {},
   "outputs": [
    {
     "name": "stdout",
     "output_type": "stream",
     "text": [
      "R squared: 0.003220087520327919\n"
     ]
    },
    {
     "data": {
      "image/png": "[encoded data removed]",
      "text/plain": [
       "<Figure size 432x288 with 1 Axes>"
      ]
     },
     "metadata": {
      "needs_background": "light"
     },
     "output_type": "display_data"
    },
    {
     "data": {
      "text/plain": [
       "<Figure size 432x288 with 0 Axes>"
      ]
     },
     "metadata": {},
     "output_type": "display_data"
    }
   ],
   "source": [
    "northern_lat = north_df['Lat']\n",
    "windy_df = north_df['Wind Speed']\n",
    "# Run linear regression\n",
    "(slope, intercept, rvalue, pvalue, stderr) = linregress(northern_lat,windy_df)\n",
    "regress_values = northern_lat * slope + intercept\n",
    "line_eq = \"y = \" + str(round(slope,2)) + \"x + \" + str(round(intercept,2))\n",
    "\n",
    "# Plot scatter plot\n",
    "plt.scatter(northern_lat,windy_df)\n",
    "\n",
    "# Plot regression line\n",
    "plt.plot(northern_lat,regress_values,\"r-\")\n",
    "plt.annotate(line_eq,(6,10),fontsize=15,color=\"red\")\n",
    "\n",
    "# Label plot\n",
    "plt.xlabel('Northern Lat')\n",
    "plt.ylabel('Wind Speed')\n",
    "plt.title ('Northern Hemisphere - Wind speed vs. Latitude Linear Regression')\n",
    "\n",
    "\n",
    "# Print r square value\n",
    "print(f\"R squared: {rvalue**2}\")\n",
    "\n",
    "# Show plot\n",
    "plt.show()\n",
    "plt.savefig(\"image8\")"
   ]
  },
  {
   "cell_type": "markdown",
   "metadata": {},
   "source": [
    "####  Southern Hemisphere - Wind Speed (mph) vs. Latitude Linear Regression"
   ]
  },
  {
   "cell_type": "code",
   "execution_count": 22,
   "metadata": {},
   "outputs": [
    {
     "name": "stdout",
     "output_type": "stream",
     "text": [
      "R squared: 0.06396370520876411\n"
     ]
    },
    {
     "data": {
      "image/png": "[encoded data removed]",
      "text/plain": [
       "<Figure size 432x288 with 1 Axes>"
      ]
     },
     "metadata": {
      "needs_background": "light"
     },
     "output_type": "display_data"
    },
    {
     "data": {
      "text/plain": [
       "<Figure size 432x288 with 0 Axes>"
      ]
     },
     "metadata": {},
     "output_type": "display_data"
    }
   ],
   "source": [
    "southern_lat = south_df['Lat']\n",
    "windy_df = south_df['Wind Speed']\n",
    "# Run linear regression\n",
    "(slope, intercept, rvalue, pvalue, stderr) = linregress(southern_lat,windy_df)\n",
    "regress_values = southern_lat * slope + intercept\n",
    "line_eq = \"y = \" + str(round(slope,2)) + \"x + \" + str(round(intercept,2))\n",
    "\n",
    "# Plot scatter plot\n",
    "plt.scatter(southern_lat,windy_df)\n",
    "\n",
    "# Plot regression line\n",
    "plt.plot(southern_lat,regress_values,\"r-\")\n",
    "plt.annotate(line_eq,(6,10),fontsize=15,color=\"red\")\n",
    "\n",
    "# Label plot\n",
    "plt.xlabel('Southern Lat')\n",
    "plt.ylabel('Wind Speed')\n",
    "plt.title ('Southern Hemisphere - Wind speed vs. Latitude Linear Regression')\n",
    "\n",
    "\n",
    "# Print r square value\n",
    "print(f\"R squared: {rvalue**2}\")\n",
    "\n",
    "# Show plot\n",
    "plt.show()\n",
    "plt.savefig(\"image9\")"
   ]
  },
  {
   "cell_type": "code",
   "execution_count": null,
   "metadata": {},
   "outputs": [],
   "source": []
  }
 ],
 "metadata": {
  "anaconda-cloud": {},
  "kernel_info": {
   "name": "python3"
  },
  "kernelspec": {
   "display_name": "Python 3",
   "language": "python",
   "name": "python3"
  },
  "language_info": {
   "codemirror_mode": {
    "name": "ipython",
    "version": 3
   },
   "file_extension": ".py",
   "mimetype": "text/x-python",
   "name": "python",
   "nbconvert_exporter": "python",
   "pygments_lexer": "ipython3",
   "version": "3.8.5"
  },
  "latex_envs": {
   "LaTeX_envs_menu_present": true,
   "autoclose": false,
   "autocomplete": true,
   "bibliofile": "biblio.bib",
   "cite_by": "apalike",
   "current_citInitial": 1,
   "eqLabelWithNumbers": true,
   "eqNumInitial": 1,
   "hotkeys": {
    "equation": "Ctrl-E",
    "itemize": "Ctrl-I"
   },
   "labels_anchors": false,
   "latex_user_defs": false,
   "report_style_numbering": false,
   "user_envs_cfg": false
  },
  "nteract": {
   "version": "0.12.3"
  }
 },
 "nbformat": 4,
 "nbformat_minor": 2
}
